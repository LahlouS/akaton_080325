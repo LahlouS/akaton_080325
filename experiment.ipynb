{
 "cells": [
  {
   "cell_type": "code",
   "execution_count": 2,
   "metadata": {},
   "outputs": [
    {
     "data": {
      "text/plain": [
       "'/Users/garancecolomer/akaton_080325/save/confusion_matrix/filename'"
      ]
     },
     "execution_count": 2,
     "metadata": {},
     "output_type": "execute_result"
    }
   ],
   "source": [
    "import os\n",
    "from dotenv import load_dotenv\n",
    "from ember_answers import ember_answers\n",
    "import goodfire\n",
    "from dotenv import load_dotenv\n",
    "import os\n",
    "\n",
    "load_dotenv()\n",
    "os.getenv(\"HOME\")\n",
    "os.path.join(os.getenv(\"HOME\"), os.getenv(\"SAVE_PATH\"), \"confusion_matrix\", \"filename\")\n",
    "\n"
   ]
  },
  {
   "cell_type": "code",
   "execution_count": 7,
   "metadata": {},
   "outputs": [
    {
     "data": {
      "text/plain": [
       "FeatureActivations(\n",
       "   0: (Feature(\"Assistant's initial friendly greeting to open a conversation\"), 10)\n",
       "   1: (Feature(\"Formal definition or description of a concept\"), 6)\n",
       "   2: (Feature(\"Action phrases in joke setups and story narratives\"), 6)\n",
       "   3: (Feature(\"Educational or scientific content about reptiles\"), 6)\n",
       "   4: (Feature(\"Animals or characters making decisions and taking actions in narrative sequences\"), 6)\n",
       "   5: (Feature(\"User initiating conversation with informal greeting\"), 5)\n",
       "   6: (Feature(\"Question marks in conversational contexts, especially greetings\"), 5)\n",
       "   7: (Feature(\"The assistant needs clarification or is offering additional help\"), 5)\n",
       "   8: (Feature(\"Setup phrases for question-answer format jokes\"), 5)\n",
       "   9: (Feature(\"Descriptions of semi-aquatic mammals and their characteristics\"), 5)\n",
       ")"
      ]
     },
     "execution_count": 7,
     "metadata": {},
     "output_type": "execute_result"
    }
   ],
   "source": [
    "\n",
    "\n",
    "GOODFIRE_API_KEY = os.getenv(\"GOODFIRE_API_KEY\")\n",
    "client = goodfire.Client(api_key=\"sk-goodfire-HqrQkGhMnV8Gi7tsE0ijm7vvRAjRQUh6ZdzYCgfZcQjQjQcQQx2Dkw\")\n",
    "variant = goodfire.Variant(\"meta-llama/Llama-3.3-70B-Instruct\")\n",
    "joke_conversation = [\n",
    "    [\n",
    "        {\n",
    "            \"role\": \"user\",\n",
    "            \"content\": \"Hello how are you?\"\n",
    "        },\n",
    "        {\n",
    "            \"role\": \"assistant\",\n",
    "            \"content\": \"What do you call an alligator in a vest? An investigator!\"\n",
    "        }\n",
    "    ]\n",
    "]\n",
    "\n",
    "variant.reset()\n",
    "context = client.features.inspect(\n",
    "    messages=joke_conversation[0],\n",
    "    model=variant,\n",
    ")\n",
    "context\n",
    "\n",
    "top_features = context.top(k=10)\n",
    "top_features\n",
    "\n",
    "map_features: dict = {}\n",
    "# boucle \n",
    "if feature_name not in map_features:\n",
    "    map_features[feattures_name] = feature_name.activation\n",
    "else:\n",
    "    map_feature[feature_name].append(feature.activation)"
   ]
  },
  {
   "cell_type": "code",
   "execution_count": 12,
   "metadata": {},
   "outputs": [
    {
     "name": "stdout",
     "output_type": "stream",
     "text": [
      "Assistant's initial friendly greeting to open a conversation: 10\n",
      "Formal definition or description of a concept: 6\n",
      "Action phrases in joke setups and story narratives: 6\n",
      "Educational or scientific content about reptiles: 6\n",
      "Animals or characters making decisions and taking actions in narrative sequences: 6\n",
      "User initiating conversation with informal greeting: 5\n",
      "Question marks in conversational contexts, especially greetings: 5\n",
      "The assistant needs clarification or is offering additional help: 5\n",
      "Setup phrases for question-answer format jokes: 5\n",
      "Descriptions of semi-aquatic mammals and their characteristics: 5\n"
     ]
    }
   ],
   "source": [
    "top_features\n",
    "for ft in top_features:\n",
    "    print(f\"{ft.feature.label}: {ft.activation}\")\n"
   ]
  },
  {
   "cell_type": "code",
   "execution_count": null,
   "metadata": {},
   "outputs": [],
   "source": []
  }
 ],
 "metadata": {
  "kernelspec": {
   "display_name": "hackathon_venv",
   "language": "python",
   "name": "python3"
  },
  "language_info": {
   "codemirror_mode": {
    "name": "ipython",
    "version": 3
   },
   "file_extension": ".py",
   "mimetype": "text/x-python",
   "name": "python",
   "nbconvert_exporter": "python",
   "pygments_lexer": "ipython3",
   "version": "3.13.2"
  }
 },
 "nbformat": 4,
 "nbformat_minor": 2
}
